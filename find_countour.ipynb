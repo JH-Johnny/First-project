{
 "cells": [
  {
   "cell_type": "code",
   "execution_count": 2,
   "metadata": {
    "collapsed": false,
    "deletable": true,
    "editable": true
   },
   "outputs": [],
   "source": [
    "import cv2\n",
    "import numpy as np\n",
    "import matplotlib.pyplot as plt\n",
    "import matplotlib.image as mpimg"
   ]
  },
  {
   "cell_type": "code",
   "execution_count": 3,
   "metadata": {
    "collapsed": true,
    "deletable": true,
    "editable": true
   },
   "outputs": [],
   "source": [
    "def sort_contours(cnts, method=\"left-to-right\"):\n",
    "    # initialize the reverse flag and sort index\n",
    "    reverse = False\n",
    "    i = 0\n",
    "    \n",
    "    # handle if we need to sort in reverse\n",
    "    if method == \"right-to-left\" or method == \"bottom-to-top\":\n",
    "        reverse = True\n",
    "        \n",
    "    # handle if we are sorting against the y-coordinate rather than\n",
    "    # the x-coordinate of the bounding box\n",
    "    if method == \"top-to-bottom\" or method == \"bottom-to-top\":\n",
    "        i = 1\n",
    "        \n",
    "    # construct the list of bounding boxes and sort them from top to\n",
    "    # bottom\n",
    "    boundingBoxes = [cv2.boundingRect(c) for c in cnts]\n",
    "    (cnts, boundingBoxes) = zip(*sorted(zip(cnts, boundingBoxes),\n",
    "        key=lambda b:b[1][i], reverse=reverse))\n",
    "    \n",
    "    # return the list of sorted contours and bounding boxes\n",
    "    return (cnts, boundingBoxes)\n"
   ]
  },
  {
   "cell_type": "code",
   "execution_count": 4,
   "metadata": {
    "collapsed": true,
    "deletable": true,
    "editable": true
   },
   "outputs": [],
   "source": [
    "def get_centres(cnts):\n",
    "    centres = []\n",
    "    \n",
    "    for i in range(len(cnts)):\n",
    "        moments = cv2.moments(cnts[i])\n",
    "        if moments['m10'] == 0 or moments['m00'] == 0 or moments['m01'] == 0:\n",
    "            continue\n",
    "            \n",
    "        centres.append((int(moments['m10']/moments['m00']), \n",
    "                        int(moments['m01']/moments['m00'])))\n",
    "    \n",
    "    return centres"
   ]
  },
  {
   "cell_type": "code",
   "execution_count": 10,
   "metadata": {
    "collapsed": false,
    "deletable": true,
    "editable": true
   },
   "outputs": [
    {
     "name": "stdout",
     "output_type": "stream",
     "text": [
      "(480, 640, 3)\n",
      "(480, 640)\n",
      "(300, 1280)\n"
     ]
    }
   ],
   "source": [
    "img = cv2.imread('canny1.png')\n",
    "img = cv2.cvtColor(img, cv2.COLOR_BGR2GRAY)\n",
    "res = cv2.resize(img, None,fx=2, fy=2, interpolation = cv2.INTER_CUBIC)\n",
    "res = res[300:600][:].copy() #ROI\n",
    "\n",
    "_, cnts, _ = cv2.findContours(res, cv2.RETR_CCOMP, cv2.CHAIN_APPROX_TC89_KCOS)\n",
    "cnts, _ = sort_contours(cnts, method=\"left-to-right\")\n",
    "cnts = [cv2.approxPolyDP(cnt, 4, True) for cnt in cnts]\n",
    "centres = get_centres(cnts)\n",
    "\n",
    "res = cv2.cvtColor(res, cv2.COLOR_GRAY2BGR)\n",
    "\n",
    "for idx in range(1, len(centres),2):\n",
    "    length = np.array(centres[idx]) - np.array(centres[idx-1])\n",
    "    \n",
    "    if length[0] < 0:\n",
    "        continue\n",
    "    \n",
    "    cv2.circle(res, centres[idx-1], 1, (0,255,0), 5)\n",
    "    cv2.circle(res, centres[idx], 1, (0,255,0), 5)\n",
    "    cv2.line(res, centres[idx-1], centres[idx], (0,255,0), 1)\n",
    "    \n",
    "    point = centres[idx-1]\n",
    "    cv2.putText(res, str(length[0]*0.008)+\"cm\", tuple([point[0], point[1]+50]), \n",
    "                cv2.FONT_HERSHEY_SIMPLEX, 0.9, (0, 255, 255), thickness=1)\n"
   ]
  },
  {
   "cell_type": "code",
   "execution_count": 6,
   "metadata": {
    "collapsed": false,
    "deletable": true,
    "editable": true
   },
   "outputs": [
    {
     "data": {
      "text/plain": [
       "True"
      ]
     },
     "execution_count": 6,
     "metadata": {},
     "output_type": "execute_result"
    }
   ],
   "source": [
    "cv2.imwrite('contours.png', res)"
   ]
  }
 ],
 "metadata": {
  "kernelspec": {
   "display_name": "Python 3",
   "language": "python",
   "name": "python3"
  },
  "language_info": {
   "codemirror_mode": {
    "name": "ipython",
    "version": 3
   },
   "file_extension": ".py",
   "mimetype": "text/x-python",
   "name": "python",
   "nbconvert_exporter": "python",
   "pygments_lexer": "ipython3",
   "version": "3.5.2"
  }
 },
 "nbformat": 4,
 "nbformat_minor": 2
}
